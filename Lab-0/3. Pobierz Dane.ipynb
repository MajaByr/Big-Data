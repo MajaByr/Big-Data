{
 "cells": [
  {
   "cell_type": "code",
   "execution_count": 0,
   "metadata": {
    "application/vnd.databricks.v1+cell": {
     "cellMetadata": {
      "byteLimit": 2048000,
      "rowLimit": 10000
     },
     "inputWidgets": {},
     "nuid": "e944749a-5c4b-4ad1-85b4-35b527ffcffe",
     "showTitle": false,
     "tableResultSettingsMap": {},
     "title": ""
    }
   },
   "outputs": [],
   "source": [
    "def file_exists(path):\n",
    "  try:\n",
    "    dbutils.fs.ls(path)\n",
    "    return True \n",
    "  except Exception as e:\n",
    "    if 'java.io.FileNotFoundException' in str(e):\n",
    "      return False\n",
    "    else:\n",
    "      raise"
   ]
  },
  {
   "cell_type": "code",
   "execution_count": 0,
   "metadata": {
    "application/vnd.databricks.v1+cell": {
     "cellMetadata": {
      "byteLimit": 2048000,
      "rowLimit": 10000
     },
     "inputWidgets": {},
     "nuid": "90c8b74d-06f4-49e9-a62c-8d38a2f6ee93",
     "showTitle": false,
     "tableResultSettingsMap": {},
     "title": ""
    }
   },
   "outputs": [],
   "source": [
    "actorsUrl = \"https://raw.githubusercontent.com/cegladanych/azure_bi_data/main/IMDB_movies/actors.csv\"\n",
    "moviesUrl = \"https://raw.githubusercontent.com/cegladanych/azure_bi_data/main/IMDB_movies/movies.csv\"\n",
    "namesUrl = \"https://raw.githubusercontent.com/cegladanych/azure_bi_data/main/IMDB_movies/names.csv\"\n",
    "ratingsUrl = \"https://raw.githubusercontent.com/cegladanych/azure_bi_data/main/IMDB_movies/ratings.csv\"\n",
    "filePath = \"/FileStore/tables/Files/\"\n",
    "dbutils.fs.mkdirs(filePath)\n",
    "actorsFile = \"actors.csv\"\n",
    "moviesFile = \"movies.csv\"\n",
    "namesFile = \"names.csv\"\n",
    "ratingsFile = \"ratings.csv\"\n",
    "tmp = \"file:/tmp/\"\n",
    "dbfsdestination = \"dbfs:/FileStore/tables/Files/\""
   ]
  },
  {
   "cell_type": "code",
   "execution_count": 0,
   "metadata": {
    "application/vnd.databricks.v1+cell": {
     "cellMetadata": {
      "byteLimit": 2048000,
      "rowLimit": 10000
     },
     "inputWidgets": {},
     "nuid": "95c12792-9440-490d-9e82-33af6fb24f76",
     "showTitle": false,
     "tableResultSettingsMap": {},
     "title": ""
    }
   },
   "outputs": [],
   "source": [
    "#ACTORS\n",
    "import urllib.request\n",
    "\n",
    "if (file_exists(filePath + actorsFile) == False):\n",
    "  urllib.request.urlretrieve(actorsUrl,\"/tmp/\" + actorsFile)\n",
    "  dbutils.fs.mv(tmp + actorsFile,dbfsdestination + actorsFile)"
   ]
  },
  {
   "cell_type": "code",
   "execution_count": 0,
   "metadata": {
    "application/vnd.databricks.v1+cell": {
     "cellMetadata": {
      "byteLimit": 2048000,
      "rowLimit": 10000
     },
     "inputWidgets": {},
     "nuid": "a7517f55-d9e5-489f-b05b-2f51fe21336d",
     "showTitle": false,
     "tableResultSettingsMap": {},
     "title": ""
    }
   },
   "outputs": [],
   "source": [
    "#MOVIES\n",
    "import urllib.request\n",
    "\n",
    "if (file_exists(filePath + moviesFile) == False):\n",
    "  urllib.request.urlretrieve(moviesUrl,\"/tmp/\" + moviesFile)\n",
    "  dbutils.fs.mv(tmp + moviesFile,dbfsdestination + moviesFile)"
   ]
  },
  {
   "cell_type": "code",
   "execution_count": 0,
   "metadata": {
    "application/vnd.databricks.v1+cell": {
     "cellMetadata": {
      "byteLimit": 2048000,
      "rowLimit": 10000
     },
     "inputWidgets": {},
     "nuid": "ecfd5b6b-1fa3-42bb-91f6-1951554fb27a",
     "showTitle": false,
     "tableResultSettingsMap": {},
     "title": ""
    }
   },
   "outputs": [],
   "source": [
    "#NAMES\n",
    "import urllib.request\n",
    "\n",
    "if (file_exists(filePath + namesFile) == False):\n",
    "  urllib.request.urlretrieve(namesUrl,\"/tmp/\" + namesFile)\n",
    "  dbutils.fs.mv(tmp + namesFile,dbfsdestination + namesFile)"
   ]
  },
  {
   "cell_type": "code",
   "execution_count": 0,
   "metadata": {
    "application/vnd.databricks.v1+cell": {
     "cellMetadata": {
      "byteLimit": 2048000,
      "rowLimit": 10000
     },
     "inputWidgets": {},
     "nuid": "90c5bbe0-8707-4a94-9347-743c7514d6e4",
     "showTitle": false,
     "tableResultSettingsMap": {},
     "title": ""
    }
   },
   "outputs": [],
   "source": [
    "#RATINGS\n",
    "import urllib.request\n",
    "\n",
    "if (file_exists(filePath + ratingsFile) == False):\n",
    "  urllib.request.urlretrieve(ratingsUrl,\"/tmp/\" + ratingsFile)\n",
    "  dbutils.fs.mv(tmp + ratingsFile,dbfsdestination + ratingsFile)"
   ]
  }
 ],
 "metadata": {
  "application/vnd.databricks.v1+notebook": {
   "computePreferences": null,
   "dashboards": [],
   "environmentMetadata": null,
   "inputWidgetPreferences": null,
   "language": "python",
   "notebookMetadata": {
    "pythonIndentUnit": 2
   },
   "notebookName": "3. Pobierz Dane",
   "widgets": {}
  }
 },
 "nbformat": 4,
 "nbformat_minor": 0
}